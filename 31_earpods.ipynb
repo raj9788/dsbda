{
 "cells": [
  {
   "cell_type": "code",
   "execution_count": 11,
   "metadata": {},
   "outputs": [],
   "source": [
    "import bs4\n",
    "import requests"
   ]
  },
  {
   "cell_type": "code",
   "execution_count": 12,
   "metadata": {},
   "outputs": [],
   "source": [
    "link=\"https://www.flipkart.com/boult-audio-gearpods-32h-playtime-fast-charging-boomx-rich-bass-ipx5-water-resistant-bluetooth-headset/p/itm7fb2711d708d1?pid=ACCG6HMH8MFR5XXK&lid=LSTACCG6HMH8MFR5XXKZGTPPC&marketplace=FLIPKART&q=earpods&store=0pm%2Ffcn%2F821%2Fa7x%2F2si&srno=s_1_2&otracker=search&otracker1=search&fm=Search&iid=en_Qok0EsLRWRtsBZLaQVTCfBY1i7xje7UbT6Ngibw8ebOFsEpCjxhoZ2nK9%2FAAgcBSj%2FCz5OE9DT6zMe%2F7wPZ9xQ%3D%3D&ppt=sp&ppn=sp&ssid=q4jedh5gmo0000001685211787978&qH=54c0686d23fddacc\""
   ]
  },
  {
   "cell_type": "code",
   "execution_count": 13,
   "metadata": {},
   "outputs": [],
   "source": [
    "html = requests.get(link)"
   ]
  },
  {
   "cell_type": "code",
   "execution_count": 14,
   "metadata": {},
   "outputs": [],
   "source": [
    "soup=bs4.BeautifulSoup(html.text)"
   ]
  },
  {
   "cell_type": "code",
   "execution_count": 16,
   "metadata": {},
   "outputs": [
    {
     "name": "stdout",
     "output_type": "stream",
     "text": [
      "Very nice product, great sound quality, enough battery backup, easy to use and very comfortable.READ MORE\n",
      "\n",
      "\n",
      "Let's get to the point , if you're looking for any basic gearpod for just listening to music during workouts, watching movies then this is a go for you you'd love this ear pod. I liked it 😊.I have been using this gearpod for more than 1 month Pros:-1) Good noise cancellation , it does have a snug fit to the ear so it stays in place(need to put ear-tips that fit your ear). 2) Good vocals, crisp sound, decent bass. No lag in latency during movies or songs. 3) Best part is I needed to ...READ MORE\n",
      "\n",
      "\n",
      "This is true review...I bought this for vero competitive price..The earbuds are very good with base but due to good base lacks some treble but overall it sounds very good.The design of earbuds are very comfortable and fits in perfectly. These are not normal bulging TWS..but looks very good on ears (premium). Other than that addition of type c makes it more convenient to use.Comes with a charging cable and some eartips.The only thing doubtful is the case of the TWS. Its Ok quality and ...READ MORE\n",
      "\n",
      "\n",
      "I bought this GearPods and i am totally satisfied with this product. The sound quality of this earbuds is better than my previous earbuds. The built quality of this earbuds is better than expected. I must say this is the best TWS in this price rangeREAD MORE\n",
      "\n",
      "\n",
      "Wonderful earbuds, perfectly fit to the ear,sound and bass quality is super.battery backup also excellent.very fast connectivity.also work within the range 10 meter.this is the buds in the range,go ahead and buy.ThanksREAD MORE\n",
      "\n",
      "\n",
      "These are amazing quality gearpods. The sound quality is awesome. The connectivity is very fast and good. The case is of good quality. It charges quickly as well and lasts long. Lovely buy.READ MORE\n",
      "\n",
      "\n",
      "Very Great Purchase.Battery Backup is Excellent, Last for 1 dayBass and sound Quality is Best and Even on Call you get Nice Sound.Fit best in EarsREAD MORE\n",
      "\n",
      "\n",
      "Sound quality is good. It gets connected to device within a fraction of second, good connectivity. Good battery backup and value for money earphone. Good built quality and thumps up to NOISE for this amazing wireless earphones.READ MORE\n",
      "\n",
      "\n",
      "Received Boult earbuds design is very attractive deep bass crystal clear sound main thing is no ear pain during use best in budgetAfter using more days it is very good pairing is also very easyREAD MORE\n",
      "\n",
      "\n",
      "The product is ok as per looks but not reliable and started giving problems . Boat is my h better . My wife bought boat and it's working fine .mine boult audio left side automatically plays music and changes song and right side don't charge at all. .so using only 1 piece . Poor reliability .READ MORE\n",
      "\n",
      "\n"
     ]
    }
   ],
   "source": [
    "reviews = soup.findAll('div',{'class' : 't-ZTKy'})\n",
    "for review in reviews:\n",
    "  print(review.get_text() + \"\\n\\n\")"
   ]
  },
  {
   "cell_type": "code",
   "execution_count": 17,
   "metadata": {},
   "outputs": [
    {
     "name": "stdout",
     "output_type": "stream",
     "text": [
      "Jai Prakash Vishwakarma\n",
      "\n",
      "Ashish Jayan\n",
      "\n",
      "Ankit Tomar\n",
      "\n",
      "Aman Singh\n",
      "\n",
      "Debashis Jena\n",
      "\n",
      "Diksha  Gaur\n",
      "\n",
      "Harshang Patel\n",
      "\n",
      "Vatsal Soni\n",
      "\n",
      "Javed Kapoor\n",
      "\n",
      "nitin jain\n",
      "\n"
     ]
    }
   ],
   "source": [
    "customer_name = soup.findAll('p',{'class':'_2sc7ZR _2V5EHH'});\n",
    "for cust_name in customer_name:\n",
    "  print(cust_name.get_text() + \"\\n\")"
   ]
  },
  {
   "cell_type": "code",
   "execution_count": 18,
   "metadata": {},
   "outputs": [],
   "source": [
    "import pandas as pd\n",
    "df = pd.DataFrame()\n",
    "df['name']=customer_name[:5]"
   ]
  },
  {
   "cell_type": "code",
   "execution_count": 19,
   "metadata": {},
   "outputs": [],
   "source": [
    "df['review']=reviews[:5]"
   ]
  },
  {
   "cell_type": "code",
   "execution_count": 20,
   "metadata": {},
   "outputs": [
    {
     "data": {
      "text/html": [
       "<div>\n",
       "<style scoped>\n",
       "    .dataframe tbody tr th:only-of-type {\n",
       "        vertical-align: middle;\n",
       "    }\n",
       "\n",
       "    .dataframe tbody tr th {\n",
       "        vertical-align: top;\n",
       "    }\n",
       "\n",
       "    .dataframe thead th {\n",
       "        text-align: right;\n",
       "    }\n",
       "</style>\n",
       "<table border=\"1\" class=\"dataframe\">\n",
       "  <thead>\n",
       "    <tr style=\"text-align: right;\">\n",
       "      <th></th>\n",
       "      <th>name</th>\n",
       "      <th>review</th>\n",
       "    </tr>\n",
       "  </thead>\n",
       "  <tbody>\n",
       "    <tr>\n",
       "      <th>0</th>\n",
       "      <td>[Jai Prakash Vishwakarma]</td>\n",
       "      <td>[[[Very nice product, great sound quality, eno...</td>\n",
       "    </tr>\n",
       "    <tr>\n",
       "      <th>1</th>\n",
       "      <td>[Ashish Jayan]</td>\n",
       "      <td>[[[Let's get to the point , if you're looking ...</td>\n",
       "    </tr>\n",
       "    <tr>\n",
       "      <th>2</th>\n",
       "      <td>[Ankit Tomar]</td>\n",
       "      <td>[[[This is true review..., &lt;br/&gt;, &lt;br/&gt;, I bou...</td>\n",
       "    </tr>\n",
       "    <tr>\n",
       "      <th>3</th>\n",
       "      <td>[Aman Singh]</td>\n",
       "      <td>[[[I bought this GearPods and i am totally sat...</td>\n",
       "    </tr>\n",
       "    <tr>\n",
       "      <th>4</th>\n",
       "      <td>[Debashis Jena]</td>\n",
       "      <td>[[[Wonderful earbuds, perfectly fit to the ear...</td>\n",
       "    </tr>\n",
       "  </tbody>\n",
       "</table>\n",
       "</div>"
      ],
      "text/plain": [
       "                        name  \\\n",
       "0  [Jai Prakash Vishwakarma]   \n",
       "1             [Ashish Jayan]   \n",
       "2              [Ankit Tomar]   \n",
       "3               [Aman Singh]   \n",
       "4            [Debashis Jena]   \n",
       "\n",
       "                                              review  \n",
       "0  [[[Very nice product, great sound quality, eno...  \n",
       "1  [[[Let's get to the point , if you're looking ...  \n",
       "2  [[[This is true review..., <br/>, <br/>, I bou...  \n",
       "3  [[[I bought this GearPods and i am totally sat...  \n",
       "4  [[[Wonderful earbuds, perfectly fit to the ear...  "
      ]
     },
     "execution_count": 20,
     "metadata": {},
     "output_type": "execute_result"
    }
   ],
   "source": [
    "df"
   ]
  },
  {
   "cell_type": "code",
   "execution_count": null,
   "metadata": {},
   "outputs": [],
   "source": []
  }
 ],
 "metadata": {
  "kernelspec": {
   "display_name": "Python 3",
   "language": "python",
   "name": "python3"
  },
  "language_info": {
   "codemirror_mode": {
    "name": "ipython",
    "version": 3
   },
   "file_extension": ".py",
   "mimetype": "text/x-python",
   "name": "python",
   "nbconvert_exporter": "python",
   "pygments_lexer": "ipython3",
   "version": "3.11.1"
  },
  "orig_nbformat": 4,
  "vscode": {
   "interpreter": {
    "hash": "d5a41efa2e1e47cd70c0626adfcb2629c7012816a142336e35a0911abbfcad27"
   }
  }
 },
 "nbformat": 4,
 "nbformat_minor": 2
}
