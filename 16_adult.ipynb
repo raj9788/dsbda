{
 "cells": [
  {
   "cell_type": "code",
   "execution_count": null,
   "metadata": {},
   "outputs": [],
   "source": [
    "import pandas as pd\n",
    "import numpy as np"
   ]
  },
  {
   "cell_type": "code",
   "execution_count": null,
   "metadata": {},
   "outputs": [],
   "source": [
    "df = pd.read_csv('DSBDALExamDataSets/Adult/adult.csv')"
   ]
  },
  {
   "cell_type": "code",
   "execution_count": null,
   "metadata": {},
   "outputs": [],
   "source": [
    "df"
   ]
  },
  {
   "cell_type": "code",
   "execution_count": null,
   "metadata": {},
   "outputs": [],
   "source": [
    "df.replace('?',np.nan,inplace=True)"
   ]
  },
  {
   "cell_type": "code",
   "execution_count": null,
   "metadata": {},
   "outputs": [],
   "source": [
    "df.isna().sum()"
   ]
  },
  {
   "cell_type": "code",
   "execution_count": null,
   "metadata": {},
   "outputs": [],
   "source": [
    "df.info()"
   ]
  },
  {
   "cell_type": "code",
   "execution_count": null,
   "metadata": {},
   "outputs": [],
   "source": [
    "df.describe()\n"
   ]
  },
  {
   "cell_type": "code",
   "execution_count": null,
   "metadata": {},
   "outputs": [],
   "source": [
    "df.dropna(inplace=True,axis=0)"
   ]
  },
  {
   "cell_type": "code",
   "execution_count": null,
   "metadata": {},
   "outputs": [],
   "source": [
    "df.shape"
   ]
  },
  {
   "cell_type": "code",
   "execution_count": null,
   "metadata": {},
   "outputs": [],
   "source": [
    "df.rename(columns={'50K<= >50K':'salary'},inplace=True)"
   ]
  },
  {
   "cell_type": "code",
   "execution_count": null,
   "metadata": {},
   "outputs": [],
   "source": [
    "df['salary'].replace(' <=50K','0',inplace=True)\n",
    "df['salary'].replace(' >50K','1',inplace=True)"
   ]
  },
  {
   "cell_type": "code",
   "execution_count": null,
   "metadata": {},
   "outputs": [],
   "source": [
    "df"
   ]
  },
  {
   "cell_type": "code",
   "execution_count": null,
   "metadata": {},
   "outputs": [],
   "source": [
    "df.dtypes"
   ]
  },
  {
   "cell_type": "code",
   "execution_count": null,
   "metadata": {},
   "outputs": [],
   "source": [
    "from sklearn.preprocessing import LabelEncoder\n",
    "en = LabelEncoder()\n",
    "for col in df.columns:\n",
    "    df[col]=en.fit_transform(df[col])"
   ]
  },
  {
   "cell_type": "code",
   "execution_count": null,
   "metadata": {},
   "outputs": [],
   "source": [
    "# def outliers(df,drop = False):\n",
    "#     for feature in df.columns:\n",
    "#         data = df[feature]\n",
    "#         Q1 = np.percentile(data,25.)\n",
    "#         Q3 = np.percentile(data,75.)\n",
    "#         IQR = Q3-Q1\n",
    "#         step=IQR*1.5\n",
    "#         outliers = data[~((data>=Q1-step)&(data<=Q3+step))].index.tolist()\n",
    "#         if not drop:\n",
    "#             print('for feature {}, no of outliers are {}'.format(feature,len(outliers)))\n",
    "#         if drop:\n",
    "#             df.drop(outliers,inplace=True,errors='ignore')\n",
    "#             print('for feature {}, no of outliers are {}'.format(feature,len(outliers)))\n",
    "        \n",
    "def outliers(df_out, drop = False):\n",
    "  for each_feature in df_out.columns:\n",
    "      feature_data = df_out[each_feature]\n",
    "      Q1 = np.percentile(feature_data, 25.) # 25th percentile of the data of the given feature\n",
    "      Q3 = np.percentile(feature_data, 75.) # 75th percentile of the data of the given feature\n",
    "      IQR = Q3-Q1 #Interquartile Range\n",
    "      outlier_step = IQR * 2 #That's we were talking about above\n",
    "      outliers = feature_data[~((feature_data >= Q1 - outlier_step) & \n",
    "      (feature_data <= Q3 + outlier_step))].index.tolist() \n",
    "      if not drop:\n",
    "        print('For the feature {}, No of Outliers is {}'.format(each_feature, len(outliers)))\n",
    "      if drop:\n",
    "        df.drop(outliers, inplace = True, errors = 'ignore')\n",
    "        print('Outliers from {} feature removed'.format(each_feature))"
   ]
  },
  {
   "cell_type": "code",
   "execution_count": null,
   "metadata": {},
   "outputs": [],
   "source": [
    "feature = ['age', 'education-num',\n",
    "       'capital-gain', 'capital-loss', 'hours-per-week']"
   ]
  },
  {
   "cell_type": "code",
   "execution_count": null,
   "metadata": {},
   "outputs": [],
   "source": [
    "outliers(df[feature],True)\n",
    "df.shape"
   ]
  },
  {
   "cell_type": "code",
   "execution_count": null,
   "metadata": {},
   "outputs": [],
   "source": [
    "x=df[feature]\n",
    "y=df['salary']"
   ]
  },
  {
   "cell_type": "code",
   "execution_count": null,
   "metadata": {},
   "outputs": [],
   "source": [
    "from sklearn.model_selection import train_test_split\n",
    "x_train,x_test,y_train,y_test = train_test_split(x,y,test_size=0.2,random_state=142)"
   ]
  },
  {
   "cell_type": "code",
   "execution_count": null,
   "metadata": {},
   "outputs": [],
   "source": [
    "from sklearn.naive_bayes import MultinomialNB\n",
    "model = MultinomialNB()"
   ]
  },
  {
   "cell_type": "code",
   "execution_count": null,
   "metadata": {},
   "outputs": [],
   "source": [
    "model.fit(x_train,y_train)"
   ]
  },
  {
   "cell_type": "code",
   "execution_count": null,
   "metadata": {},
   "outputs": [],
   "source": [
    "y_pred=model.predict(x_test)"
   ]
  },
  {
   "cell_type": "code",
   "execution_count": null,
   "metadata": {},
   "outputs": [],
   "source": [
    "from sklearn import metrics\n",
    "print(\"accuracy  :: \",metrics.accuracy_score(y_pred,y_test))\n",
    "print(\"precision :: \",metrics.precision_score(y_pred,y_test))\n",
    "print(\"recall    :: \",metrics.recall_score(y_pred,y_test))\n",
    "print(\"f1        :: \",metrics.f1_score(y_pred,y_test))"
   ]
  },
  {
   "cell_type": "code",
   "execution_count": null,
   "metadata": {},
   "outputs": [],
   "source": [
    "from sklearn.linear_model import LogisticRegression\n",
    "model=LogisticRegression()"
   ]
  },
  {
   "cell_type": "code",
   "execution_count": null,
   "metadata": {},
   "outputs": [],
   "source": [
    "model.fit(x_train,y_train)\n"
   ]
  },
  {
   "cell_type": "code",
   "execution_count": null,
   "metadata": {},
   "outputs": [],
   "source": [
    "y_pred = model.predict(x_test)"
   ]
  },
  {
   "cell_type": "code",
   "execution_count": null,
   "metadata": {},
   "outputs": [],
   "source": [
    "print(\"accuracy  :: \",metrics.accuracy_score(y_pred,y_test))\n",
    "print(\"precision :: \",metrics.precision_score(y_pred,y_test))\n",
    "print(\"recall    :: \",metrics.recall_score(y_pred,y_test))\n",
    "print(\"f1        :: \",metrics.f1_score(y_pred,y_test))"
   ]
  },
  {
   "cell_type": "code",
   "execution_count": null,
   "metadata": {},
   "outputs": [],
   "source": []
  }
 ],
 "metadata": {
  "kernelspec": {
   "display_name": "Python 3",
   "language": "python",
   "name": "python3"
  },
  "language_info": {
   "codemirror_mode": {
    "name": "ipython",
    "version": 3
   },
   "file_extension": ".py",
   "mimetype": "text/x-python",
   "name": "python",
   "nbconvert_exporter": "python",
   "pygments_lexer": "ipython3",
   "version": "3.11.1"
  },
  "orig_nbformat": 4,
  "vscode": {
   "interpreter": {
    "hash": "d5a41efa2e1e47cd70c0626adfcb2629c7012816a142336e35a0911abbfcad27"
   }
  }
 },
 "nbformat": 4,
 "nbformat_minor": 2
}
