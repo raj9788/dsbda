{
 "cells": [
  {
   "cell_type": "code",
   "execution_count": 1,
   "metadata": {},
   "outputs": [],
   "source": [
    "import bs4\n",
    "import requests"
   ]
  },
  {
   "cell_type": "code",
   "execution_count": 2,
   "metadata": {},
   "outputs": [],
   "source": [
    "link=\"https://www.flipkart.com/oneplus-nord-ce-2-lite-5g-blue-tide-128-gb/p/itm7acae55b999e6?pid=MOBGMFREBAHZQGY9&lid=LSTMOBGMFREBAHZQGY9LFGFLR&marketplace=FLIPKART&store=tyy%2F4io&spotlightTagId=BestsellerId_tyy%2F4io&srno=b_1_1&otracker=browse&fm=organic&iid=5e16a456-61b9-474a-90a7-fb472c315da3.MOBGMFREBAHZQGY9.SEARCH&ppt=browse&ppn=browse&ssid=oclz52qr0w0000001685211560323\"\n"
   ]
  },
  {
   "cell_type": "code",
   "execution_count": 3,
   "metadata": {},
   "outputs": [
    {
     "data": {
      "text/plain": [
       "<Response [200]>"
      ]
     },
     "execution_count": 3,
     "metadata": {},
     "output_type": "execute_result"
    }
   ],
   "source": [
    "soup=requests.get(link)\n",
    "soup"
   ]
  },
  {
   "cell_type": "code",
   "execution_count": 4,
   "metadata": {},
   "outputs": [],
   "source": [
    "soup=bs4.BeautifulSoup(soup.text)"
   ]
  },
  {
   "cell_type": "code",
   "execution_count": 5,
   "metadata": {},
   "outputs": [],
   "source": [
    "reviews = soup.findAll('div',{'class':'t-ZTKy'})"
   ]
  },
  {
   "cell_type": "code",
   "execution_count": 7,
   "metadata": {},
   "outputs": [
    {
     "name": "stdout",
     "output_type": "stream",
     "text": [
      "Just now I received my phoneDesign & build quality is good according to price rangeCamera overall goodDisplay & performance is also good for normal usage (less heavy uses)Features are also very smooth It's my first day of usage so I'll edit my review after useThank you.READ MORE\n",
      "\n",
      "A Midrange phone from OnePlus.Why I choose this phone is only because of the Brand value.We have more other options like Vivo T1 ,Realme 9,9pro , Oppo ,Motorola.But the OnePlus has their own premium feel The reason why I have given only 4 star:-1-The AMOLED display is not there.But it is not important.2- Wide angle lens is also not there.3- They have removed Alert slider.Other wise the phone is perfect. I am satisfied with this device 95%.You can go for it.The important thing is tha...READ MORE\n",
      "\n",
      "Very good mobile good camera everything is good i love This  mobile phone❤️READ MORE\n",
      "\n",
      "Camera is good..battery draining fast after some days..speed is good no issue .. sound is also good but there is no dual speaker so what else u can expect.. overall it's a good phone in this price range of 20kREAD MORE\n",
      "\n",
      "So I was sceptical about buying this budget phone of a premium brand as I guessed there would be obviously some shortfalls as compared to the normal range phones like oppo, realme etc. I have been using this phone since a week and I shall write my reviews based on my user experience. My previous phone was realme and have also used redmi note 10 pro, so I shall compare with them as well. I'm not a techie but as a common smart phone user let me jot down what I felt.Pros: Phone looks absolutel...READ MORE\n",
      "\n",
      "Thanku so much Flipkart..best phone 📱 I am so happy 😊Super fast charging cable 🚠😊 Camera best phone 📱🤳Thanku .😊😊💜💜 Love u FlipkartREAD MORE\n",
      "\n",
      "Good phone but battery is not up to the mark. Battery drains faster when it's moderate usage. 33w charger is the only plus.Phone feels little heavier while comparing other phones at this price segment.OnePlus logo is not clearly visible at backside.Some features like \"Google Service for VR\" is not working in this model.Overall I can give 3 rating out of 5.READ MORE\n",
      "\n",
      "Best performance battery 🔋 superb and I love oxygen OS build quality almost good go for it 😘READ MORE\n",
      "\n",
      "Superb fantastic 😍 thank you Flipkart ❤️😇im so happy 😊READ MORE\n",
      "\n",
      "Being a OnePlus user for more than 5 years, with the same expectations, I ordered this phone but was utterly disappointed.On the first day of use, I feel using my old  OnePlus 6t is best to use to date.Pros: good Battery back up, fast, no heating observed even playing game for more than 1 hour, fast face recognition and unlock.Cons: (strictly in my opinion) The display seems poor, the rear camera was not impressive, finger print sensor detection is too slow.Finally, It seems to me like O...READ MORE\n",
      "\n"
     ]
    }
   ],
   "source": [
    "for r in reviews:\n",
    "    print(r.get_text()+'\\n')"
   ]
  },
  {
   "cell_type": "code",
   "execution_count": 11,
   "metadata": {},
   "outputs": [
    {
     "name": "stdout",
     "output_type": "stream",
     "text": [
      "5\n",
      "\n",
      "4\n",
      "\n",
      "4\n",
      "\n",
      "3\n",
      "\n",
      "4\n",
      "\n",
      "5\n",
      "\n",
      "3\n",
      "\n",
      "4\n",
      "\n",
      "4\n",
      "\n"
     ]
    }
   ],
   "source": [
    "ratings = soup.findAll('div',{'class':'_3LWZlK _1BLPMq'})\n",
    "for r in ratings:\n",
    "    print(r.get_text()+'\\n')"
   ]
  },
  {
   "cell_type": "code",
   "execution_count": 12,
   "metadata": {},
   "outputs": [
    {
     "name": "stdout",
     "output_type": "stream",
     "text": [
      "Ashutosh Kashyap\n",
      "\n",
      "Flipkart Customer\n",
      "\n",
      "Chakra Sangam\n",
      "\n",
      "Prashant Kumar\n",
      "\n",
      "Sree Lakshmi\n",
      "\n",
      "Ritesh Singh\n",
      "\n",
      "Ehthishamul Haque\n",
      "\n",
      "DANISH SALVI\n",
      "\n",
      "Saurav Kumar\n",
      "\n",
      "Vamsi Krishna PVVN\n",
      "\n"
     ]
    }
   ],
   "source": [
    "customer_name = soup.findAll('p',{'class':'_2sc7ZR _2V5EHH'});\n",
    "for cust_name in customer_name:\n",
    "  print(cust_name.get_text() + \"\\n\")"
   ]
  },
  {
   "cell_type": "code",
   "execution_count": 14,
   "metadata": {},
   "outputs": [],
   "source": [
    "import pandas as pd\n",
    "df=pd.DataFrame()\n",
    "df['custmor_name']=customer_name[:5]\n",
    "df['Ratings']=ratings[:5]"
   ]
  },
  {
   "cell_type": "code",
   "execution_count": 15,
   "metadata": {},
   "outputs": [
    {
     "data": {
      "text/html": [
       "<div>\n",
       "<style scoped>\n",
       "    .dataframe tbody tr th:only-of-type {\n",
       "        vertical-align: middle;\n",
       "    }\n",
       "\n",
       "    .dataframe tbody tr th {\n",
       "        vertical-align: top;\n",
       "    }\n",
       "\n",
       "    .dataframe thead th {\n",
       "        text-align: right;\n",
       "    }\n",
       "</style>\n",
       "<table border=\"1\" class=\"dataframe\">\n",
       "  <thead>\n",
       "    <tr style=\"text-align: right;\">\n",
       "      <th></th>\n",
       "      <th>custmor_name</th>\n",
       "      <th>Ratings</th>\n",
       "    </tr>\n",
       "  </thead>\n",
       "  <tbody>\n",
       "    <tr>\n",
       "      <th>0</th>\n",
       "      <td>[Ashutosh Kashyap]</td>\n",
       "      <td>[5, []]</td>\n",
       "    </tr>\n",
       "    <tr>\n",
       "      <th>1</th>\n",
       "      <td>[Flipkart Customer]</td>\n",
       "      <td>[4, []]</td>\n",
       "    </tr>\n",
       "    <tr>\n",
       "      <th>2</th>\n",
       "      <td>[Chakra Sangam]</td>\n",
       "      <td>[4, []]</td>\n",
       "    </tr>\n",
       "    <tr>\n",
       "      <th>3</th>\n",
       "      <td>[Prashant Kumar]</td>\n",
       "      <td>[3, []]</td>\n",
       "    </tr>\n",
       "    <tr>\n",
       "      <th>4</th>\n",
       "      <td>[Sree Lakshmi]</td>\n",
       "      <td>[4, []]</td>\n",
       "    </tr>\n",
       "  </tbody>\n",
       "</table>\n",
       "</div>"
      ],
      "text/plain": [
       "          custmor_name  Ratings\n",
       "0   [Ashutosh Kashyap]  [5, []]\n",
       "1  [Flipkart Customer]  [4, []]\n",
       "2      [Chakra Sangam]  [4, []]\n",
       "3     [Prashant Kumar]  [3, []]\n",
       "4       [Sree Lakshmi]  [4, []]"
      ]
     },
     "execution_count": 15,
     "metadata": {},
     "output_type": "execute_result"
    }
   ],
   "source": [
    "df"
   ]
  },
  {
   "cell_type": "code",
   "execution_count": null,
   "metadata": {},
   "outputs": [],
   "source": []
  }
 ],
 "metadata": {
  "kernelspec": {
   "display_name": "Python 3",
   "language": "python",
   "name": "python3"
  },
  "language_info": {
   "codemirror_mode": {
    "name": "ipython",
    "version": 3
   },
   "file_extension": ".py",
   "mimetype": "text/x-python",
   "name": "python",
   "nbconvert_exporter": "python",
   "pygments_lexer": "ipython3",
   "version": "3.11.1"
  },
  "orig_nbformat": 4,
  "vscode": {
   "interpreter": {
    "hash": "d5a41efa2e1e47cd70c0626adfcb2629c7012816a142336e35a0911abbfcad27"
   }
  }
 },
 "nbformat": 4,
 "nbformat_minor": 2
}
